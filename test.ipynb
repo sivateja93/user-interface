{
 "cells": [
  {
   "cell_type": "code",
   "execution_count": 3,
   "outputs": [
    {
     "name": "stdout",
     "output_type": "stream",
     "text": [
      "Requirement already satisfied: netcdf4 in c:\\users\\vh\\miniconda3\\envs\\pythonproject7\\lib\\site-packages (1.5.6)\n",
      "Requirement already satisfied: cftime in c:\\users\\vh\\miniconda3\\envs\\pythonproject7\\lib\\site-packages (from netcdf4) (1.4.1)\n",
      "Requirement already satisfied: numpy>=1.9 in c:\\users\\vh\\miniconda3\\envs\\pythonproject7\\lib\\site-packages (from netcdf4) (1.20.2)\n"
     ]
    }
   ],
   "source": [
    "!pip install netcdf4"
   ],
   "metadata": {
    "collapsed": false,
    "pycharm": {
     "name": "#%%salam\n"
    }
   }
  },
  {
   "cell_type": "code",
   "execution_count": 8,
   "outputs": [],
   "source": [
    "import netCDF4 as nc\n",
    "df = nc.Dataset(\"v50_CO2_excl_short-cycle_org_C_2015.0.1x0.1.nc\")"
   ],
   "metadata": {
    "collapsed": false,
    "pycharm": {
     "name": "#%% data\n"
    }
   }
  },
  {
   "cell_type": "code",
   "execution_count": 9,
   "outputs": [
    {
     "name": "stdout",
     "output_type": "stream",
     "text": [
      "<class 'netCDF4._netCDF4.Variable'>\n",
      "float32 lat(lat)\n",
      "    standard_name: latitude\n",
      "    long_name: latitude\n",
      "    units: degrees_north\n",
      "    comment: center_of_cell\n",
      "unlimited dimensions: \n",
      "current shape = (1800,)\n",
      "filling on, default _FillValue of 9.969209968386869e+36 used\n",
      "<class 'netCDF4._netCDF4.Variable'>\n",
      "float32 lon(lon)\n",
      "    standard_name: longitude\n",
      "    long_name: longitude\n",
      "    units: degrees_east\n",
      "    comment: center_of_cell\n",
      "unlimited dimensions: \n",
      "current shape = (3600,)\n",
      "filling on, default _FillValue of 9.969209968386869e+36 used\n",
      "<class 'netCDF4._netCDF4.Variable'>\n",
      "float32 emi_co2(lat, lon)\n",
      "    standard_name: tendency_of_atmosphere_mass_content_of_carbon_dioxide_due_to_emission\n",
      "    long_name: Emissions of CO2 - \n",
      "    units: kg m-2 s-1\n",
      "    cell_method: time: mean (interval: 1 year, 365 days)\n",
      "    total_emi_co2:    3.63111e+013 kg/year\n",
      "    comment:  (see http://edgar.jrc.ec.europa.eu/methodology.php#12sou for the definitions of the single sources)\n",
      "unlimited dimensions: \n",
      "current shape = (1800, 3600)\n",
      "filling on, default _FillValue of 9.969209968386869e+36 used\n"
     ]
    }
   ],
   "source": [
    "df.__dict__\n",
    "for var in df.variables.values():\n",
    "    print(var)\n"
   ],
   "metadata": {
    "collapsed": false,
    "pycharm": {
     "name": "#%% preprocess\n"
    }
   }
  },
  {
   "cell_type": "code",
   "execution_count": 16,
   "outputs": [
    {
     "name": "stdout",
     "output_type": "stream",
     "text": [
      "<class 'netCDF4._netCDF4.Variable'>\n",
      "float32 lat(lat)\n",
      "    standard_name: latitude\n",
      "    long_name: latitude\n",
      "    units: degrees_north\n",
      "    comment: center_of_cell\n",
      "unlimited dimensions: \n",
      "current shape = (1800,)\n",
      "filling on, default _FillValue of 9.969209968386869e+36 used\n"
     ]
    }
   ],
   "source": [
    "print(df['lat'])"
   ],
   "metadata": {
    "collapsed": false,
    "pycharm": {
     "name": "#%% preprocess\n"
    }
   }
  },
  {
   "cell_type": "code",
   "execution_count": 21,
   "outputs": [
    {
     "name": "stdout",
     "output_type": "stream",
     "text": [
      "Collecting GDAL\n",
      "  Downloading GDAL-3.2.2.tar.gz (601 kB)\n",
      "Building wheels for collected packages: GDAL\n",
      "  Building wheel for GDAL (setup.py): started\n",
      "  Building wheel for GDAL (setup.py): finished with status 'error'\n",
      "  Running setup.py clean for GDAL\n",
      "Failed to build GDAL\n",
      "Installing collected packages: GDAL\n",
      "    Running setup.py install for GDAL: started\n",
      "    Running setup.py install for GDAL: finished with status 'error'\n"
     ]
    },
    {
     "name": "stderr",
     "output_type": "stream",
     "text": [
      "  ERROR: Command errored out with exit status 1:\n",
      "   command: 'C:\\Users\\vh\\miniconda3\\envs\\pythonProject7\\python.exe' -u -c 'import sys, setuptools, tokenize; sys.argv[0] = '\"'\"'C:\\\\Users\\\\vh\\\\AppData\\\\Local\\\\Temp\\\\pip-install-p3e9gfkn\\\\gdal_25ae0ab04d754d8f8fdeb00388b6049c\\\\setup.py'\"'\"'; __file__='\"'\"'C:\\\\Users\\\\vh\\\\AppData\\\\Local\\\\Temp\\\\pip-install-p3e9gfkn\\\\gdal_25ae0ab04d754d8f8fdeb00388b6049c\\\\setup.py'\"'\"';f=getattr(tokenize, '\"'\"'open'\"'\"', open)(__file__);code=f.read().replace('\"'\"'\\r\\n'\"'\"', '\"'\"'\\n'\"'\"');f.close();exec(compile(code, __file__, '\"'\"'exec'\"'\"'))' bdist_wheel -d 'C:\\Users\\vh\\AppData\\Local\\Temp\\pip-wheel-rwhnv2y0'\n",
      "       cwd: C:\\Users\\vh\\AppData\\Local\\Temp\\pip-install-p3e9gfkn\\gdal_25ae0ab04d754d8f8fdeb00388b6049c\\\n",
      "  Complete output (54 lines):\n",
      "  running bdist_wheel\n",
      "  running build\n",
      "  running build_py\n",
      "  creating build\n",
      "  creating build\\lib.win-amd64-3.9\n",
      "  creating build\\lib.win-amd64-3.9\\osgeo\n",
      "  copying osgeo\\gdal.py -> build\\lib.win-amd64-3.9\\osgeo\n",
      "  copying osgeo\\gdalconst.py -> build\\lib.win-amd64-3.9\\osgeo\n",
      "  copying osgeo\\gdalnumeric.py -> build\\lib.win-amd64-3.9\\osgeo\n",
      "  copying osgeo\\gdal_array.py -> build\\lib.win-amd64-3.9\\osgeo\n",
      "  copying osgeo\\gnm.py -> build\\lib.win-amd64-3.9\\osgeo\n",
      "  copying osgeo\\ogr.py -> build\\lib.win-amd64-3.9\\osgeo\n",
      "  copying osgeo\\osr.py -> build\\lib.win-amd64-3.9\\osgeo\n",
      "  copying osgeo\\__init__.py -> build\\lib.win-amd64-3.9\\osgeo\n",
      "  creating build\\lib.win-amd64-3.9\\osgeo\\utils\n",
      "  copying osgeo\\utils\\epsg_tr.py -> build\\lib.win-amd64-3.9\\osgeo\\utils\n",
      "  copying osgeo\\utils\\esri2wkt.py -> build\\lib.win-amd64-3.9\\osgeo\\utils\n",
      "  copying osgeo\\utils\\gcps2vec.py -> build\\lib.win-amd64-3.9\\osgeo\\utils\n",
      "  copying osgeo\\utils\\gcps2wld.py -> build\\lib.win-amd64-3.9\\osgeo\\utils\n",
      "  copying osgeo\\utils\\gdal2xyz.py -> build\\lib.win-amd64-3.9\\osgeo\\utils\n",
      "  copying osgeo\\utils\\gdalchksum.py -> build\\lib.win-amd64-3.9\\osgeo\\utils\n",
      "  copying osgeo\\utils\\gdalcompare.py -> build\\lib.win-amd64-3.9\\osgeo\\utils\n",
      "  copying osgeo\\utils\\gdalident.py -> build\\lib.win-amd64-3.9\\osgeo\\utils\n",
      "  copying osgeo\\utils\\gdalimport.py -> build\\lib.win-amd64-3.9\\osgeo\\utils\n",
      "  copying osgeo\\utils\\gdalmove.py -> build\\lib.win-amd64-3.9\\osgeo\\utils\n",
      "  copying osgeo\\utils\\gdal_auth.py -> build\\lib.win-amd64-3.9\\osgeo\\utils\n",
      "  copying osgeo\\utils\\gdal_calc.py -> build\\lib.win-amd64-3.9\\osgeo\\utils\n",
      "  copying osgeo\\utils\\gdal_edit.py -> build\\lib.win-amd64-3.9\\osgeo\\utils\n",
      "  copying osgeo\\utils\\gdal_fillnodata.py -> build\\lib.win-amd64-3.9\\osgeo\\utils\n",
      "  copying osgeo\\utils\\gdal_merge.py -> build\\lib.win-amd64-3.9\\osgeo\\utils\n",
      "  copying osgeo\\utils\\gdal_pansharpen.py -> build\\lib.win-amd64-3.9\\osgeo\\utils\n",
      "  copying osgeo\\utils\\gdal_polygonize.py -> build\\lib.win-amd64-3.9\\osgeo\\utils\n",
      "  copying osgeo\\utils\\gdal_proximity.py -> build\\lib.win-amd64-3.9\\osgeo\\utils\n",
      "  copying osgeo\\utils\\gdal_retile.py -> build\\lib.win-amd64-3.9\\osgeo\\utils\n",
      "  copying osgeo\\utils\\gdal_sieve.py -> build\\lib.win-amd64-3.9\\osgeo\\utils\n",
      "  copying osgeo\\utils\\mkgraticule.py -> build\\lib.win-amd64-3.9\\osgeo\\utils\n",
      "  copying osgeo\\utils\\ogrmerge.py -> build\\lib.win-amd64-3.9\\osgeo\\utils\n",
      "  copying osgeo\\utils\\pct2rgb.py -> build\\lib.win-amd64-3.9\\osgeo\\utils\n",
      "  copying osgeo\\utils\\rgb2pct.py -> build\\lib.win-amd64-3.9\\osgeo\\utils\n",
      "  copying osgeo\\utils\\__init__.py -> build\\lib.win-amd64-3.9\\osgeo\\utils\n",
      "  C:\\Users\\vh\\miniconda3\\envs\\pythonProject7\\lib\\site-packages\\setuptools\\lib2to3_ex.py:36: SetuptoolsDeprecationWarning: 2to3 support is deprecated. If the project still requires Python 2 support, please migrate to a single-codebase solution or employ an independent conversion process.\n",
      "    warnings.warn(\n",
      "  Fixing build\\lib.win-amd64-3.9\\osgeo\\gdal.py build\\lib.win-amd64-3.9\\osgeo\\gdalconst.py build\\lib.win-amd64-3.9\\osgeo\\gdalnumeric.py build\\lib.win-amd64-3.9\\osgeo\\gdal_array.py build\\lib.win-amd64-3.9\\osgeo\\gnm.py build\\lib.win-amd64-3.9\\osgeo\\ogr.py build\\lib.win-amd64-3.9\\osgeo\\osr.py build\\lib.win-amd64-3.9\\osgeo\\__init__.py build\\lib.win-amd64-3.9\\osgeo\\utils\\epsg_tr.py build\\lib.win-amd64-3.9\\osgeo\\utils\\esri2wkt.py build\\lib.win-amd64-3.9\\osgeo\\utils\\gcps2vec.py build\\lib.win-amd64-3.9\\osgeo\\utils\\gcps2wld.py build\\lib.win-amd64-3.9\\osgeo\\utils\\gdal2xyz.py build\\lib.win-amd64-3.9\\osgeo\\utils\\gdalchksum.py build\\lib.win-amd64-3.9\\osgeo\\utils\\gdalcompare.py build\\lib.win-amd64-3.9\\osgeo\\utils\\gdalident.py build\\lib.win-amd64-3.9\\osgeo\\utils\\gdalimport.py build\\lib.win-amd64-3.9\\osgeo\\utils\\gdalmove.py build\\lib.win-amd64-3.9\\osgeo\\utils\\gdal_auth.py build\\lib.win-amd64-3.9\\osgeo\\utils\\gdal_calc.py build\\lib.win-amd64-3.9\\osgeo\\utils\\gdal_edit.py build\\lib.win-amd64-3.9\\osgeo\\utils\\gdal_fillnodata.py build\\lib.win-amd64-3.9\\osgeo\\utils\\gdal_merge.py build\\lib.win-amd64-3.9\\osgeo\\utils\\gdal_pansharpen.py build\\lib.win-amd64-3.9\\osgeo\\utils\\gdal_polygonize.py build\\lib.win-amd64-3.9\\osgeo\\utils\\gdal_proximity.py build\\lib.win-amd64-3.9\\osgeo\\utils\\gdal_retile.py build\\lib.win-amd64-3.9\\osgeo\\utils\\gdal_sieve.py build\\lib.win-amd64-3.9\\osgeo\\utils\\mkgraticule.py build\\lib.win-amd64-3.9\\osgeo\\utils\\ogrmerge.py build\\lib.win-amd64-3.9\\osgeo\\utils\\pct2rgb.py build\\lib.win-amd64-3.9\\osgeo\\utils\\rgb2pct.py build\\lib.win-amd64-3.9\\osgeo\\utils\\__init__.py\n",
      "  Skipping optional fixer: ws_comma\n",
      "  Fixing build\\lib.win-amd64-3.9\\osgeo\\gdal.py build\\lib.win-amd64-3.9\\osgeo\\gdalconst.py build\\lib.win-amd64-3.9\\osgeo\\gdalnumeric.py build\\lib.win-amd64-3.9\\osgeo\\gdal_array.py build\\lib.win-amd64-3.9\\osgeo\\gnm.py build\\lib.win-amd64-3.9\\osgeo\\ogr.py build\\lib.win-amd64-3.9\\osgeo\\osr.py build\\lib.win-amd64-3.9\\osgeo\\__init__.py build\\lib.win-amd64-3.9\\osgeo\\utils\\epsg_tr.py build\\lib.win-amd64-3.9\\osgeo\\utils\\esri2wkt.py build\\lib.win-amd64-3.9\\osgeo\\utils\\gcps2vec.py build\\lib.win-amd64-3.9\\osgeo\\utils\\gcps2wld.py build\\lib.win-amd64-3.9\\osgeo\\utils\\gdal2xyz.py build\\lib.win-amd64-3.9\\osgeo\\utils\\gdalchksum.py build\\lib.win-amd64-3.9\\osgeo\\utils\\gdalcompare.py build\\lib.win-amd64-3.9\\osgeo\\utils\\gdalident.py build\\lib.win-amd64-3.9\\osgeo\\utils\\gdalimport.py build\\lib.win-amd64-3.9\\osgeo\\utils\\gdalmove.py build\\lib.win-amd64-3.9\\osgeo\\utils\\gdal_auth.py build\\lib.win-amd64-3.9\\osgeo\\utils\\gdal_calc.py build\\lib.win-amd64-3.9\\osgeo\\utils\\gdal_edit.py build\\lib.win-amd64-3.9\\osgeo\\utils\\gdal_fillnodata.py build\\lib.win-amd64-3.9\\osgeo\\utils\\gdal_merge.py build\\lib.win-amd64-3.9\\osgeo\\utils\\gdal_pansharpen.py build\\lib.win-amd64-3.9\\osgeo\\utils\\gdal_polygonize.py build\\lib.win-amd64-3.9\\osgeo\\utils\\gdal_proximity.py build\\lib.win-amd64-3.9\\osgeo\\utils\\gdal_retile.py build\\lib.win-amd64-3.9\\osgeo\\utils\\gdal_sieve.py build\\lib.win-amd64-3.9\\osgeo\\utils\\mkgraticule.py build\\lib.win-amd64-3.9\\osgeo\\utils\\ogrmerge.py build\\lib.win-amd64-3.9\\osgeo\\utils\\pct2rgb.py build\\lib.win-amd64-3.9\\osgeo\\utils\\rgb2pct.py build\\lib.win-amd64-3.9\\osgeo\\utils\\__init__.py\n",
      "  Skipping optional fixer: ws_comma\n",
      "  running build_ext\n",
      "  building 'osgeo._gdal' extension\n",
      "  building 'osgeo._gdalconst' extension\n",
      "  building 'osgeo._osr' extension\n",
      "  building 'osgeo._ogr' extension\n",
      "  building 'osgeo._gnm' extension\n",
      "  building 'osgeo._gdal_array' extension\n",
      "  error: Microsoft Visual C++ 14.0 or greater is required. Get it with \"Microsoft C++ Build Tools\": https://visualstudio.microsoft.com/visual-cpp-build-tools/\n",
      "  ----------------------------------------\n",
      "  ERROR: Failed building wheel for GDAL\n",
      "    ERROR: Command errored out with exit status 1:\n",
      "     command: 'C:\\Users\\vh\\miniconda3\\envs\\pythonProject7\\python.exe' -u -c 'import sys, setuptools, tokenize; sys.argv[0] = '\"'\"'C:\\\\Users\\\\vh\\\\AppData\\\\Local\\\\Temp\\\\pip-install-p3e9gfkn\\\\gdal_25ae0ab04d754d8f8fdeb00388b6049c\\\\setup.py'\"'\"'; __file__='\"'\"'C:\\\\Users\\\\vh\\\\AppData\\\\Local\\\\Temp\\\\pip-install-p3e9gfkn\\\\gdal_25ae0ab04d754d8f8fdeb00388b6049c\\\\setup.py'\"'\"';f=getattr(tokenize, '\"'\"'open'\"'\"', open)(__file__);code=f.read().replace('\"'\"'\\r\\n'\"'\"', '\"'\"'\\n'\"'\"');f.close();exec(compile(code, __file__, '\"'\"'exec'\"'\"'))' install --record 'C:\\Users\\vh\\AppData\\Local\\Temp\\pip-record-0a88kc2n\\install-record.txt' --single-version-externally-managed --compile --install-headers 'C:\\Users\\vh\\miniconda3\\envs\\pythonProject7\\Include\\GDAL'\n",
      "         cwd: C:\\Users\\vh\\AppData\\Local\\Temp\\pip-install-p3e9gfkn\\gdal_25ae0ab04d754d8f8fdeb00388b6049c\\\n",
      "    Complete output (54 lines):\n",
      "    running install\n",
      "    running build\n",
      "    running build_py\n",
      "    creating build\n",
      "    creating build\\lib.win-amd64-3.9\n",
      "    creating build\\lib.win-amd64-3.9\\osgeo\n",
      "    copying osgeo\\gdal.py -> build\\lib.win-amd64-3.9\\osgeo\n",
      "    copying osgeo\\gdalconst.py -> build\\lib.win-amd64-3.9\\osgeo\n",
      "    copying osgeo\\gdalnumeric.py -> build\\lib.win-amd64-3.9\\osgeo\n",
      "    copying osgeo\\gdal_array.py -> build\\lib.win-amd64-3.9\\osgeo\n",
      "    copying osgeo\\gnm.py -> build\\lib.win-amd64-3.9\\osgeo\n",
      "    copying osgeo\\ogr.py -> build\\lib.win-amd64-3.9\\osgeo\n",
      "    copying osgeo\\osr.py -> build\\lib.win-amd64-3.9\\osgeo\n",
      "    copying osgeo\\__init__.py -> build\\lib.win-amd64-3.9\\osgeo\n",
      "    creating build\\lib.win-amd64-3.9\\osgeo\\utils\n",
      "    copying osgeo\\utils\\epsg_tr.py -> build\\lib.win-amd64-3.9\\osgeo\\utils\n",
      "    copying osgeo\\utils\\esri2wkt.py -> build\\lib.win-amd64-3.9\\osgeo\\utils\n",
      "    copying osgeo\\utils\\gcps2vec.py -> build\\lib.win-amd64-3.9\\osgeo\\utils\n",
      "    copying osgeo\\utils\\gcps2wld.py -> build\\lib.win-amd64-3.9\\osgeo\\utils\n",
      "    copying osgeo\\utils\\gdal2xyz.py -> build\\lib.win-amd64-3.9\\osgeo\\utils\n",
      "    copying osgeo\\utils\\gdalchksum.py -> build\\lib.win-amd64-3.9\\osgeo\\utils\n",
      "    copying osgeo\\utils\\gdalcompare.py -> build\\lib.win-amd64-3.9\\osgeo\\utils\n",
      "    copying osgeo\\utils\\gdalident.py -> build\\lib.win-amd64-3.9\\osgeo\\utils\n",
      "    copying osgeo\\utils\\gdalimport.py -> build\\lib.win-amd64-3.9\\osgeo\\utils\n",
      "    copying osgeo\\utils\\gdalmove.py -> build\\lib.win-amd64-3.9\\osgeo\\utils\n",
      "    copying osgeo\\utils\\gdal_auth.py -> build\\lib.win-amd64-3.9\\osgeo\\utils\n",
      "    copying osgeo\\utils\\gdal_calc.py -> build\\lib.win-amd64-3.9\\osgeo\\utils\n",
      "    copying osgeo\\utils\\gdal_edit.py -> build\\lib.win-amd64-3.9\\osgeo\\utils\n",
      "    copying osgeo\\utils\\gdal_fillnodata.py -> build\\lib.win-amd64-3.9\\osgeo\\utils\n",
      "    copying osgeo\\utils\\gdal_merge.py -> build\\lib.win-amd64-3.9\\osgeo\\utils\n",
      "    copying osgeo\\utils\\gdal_pansharpen.py -> build\\lib.win-amd64-3.9\\osgeo\\utils\n",
      "    copying osgeo\\utils\\gdal_polygonize.py -> build\\lib.win-amd64-3.9\\osgeo\\utils\n",
      "    copying osgeo\\utils\\gdal_proximity.py -> build\\lib.win-amd64-3.9\\osgeo\\utils\n",
      "    copying osgeo\\utils\\gdal_retile.py -> build\\lib.win-amd64-3.9\\osgeo\\utils\n",
      "    copying osgeo\\utils\\gdal_sieve.py -> build\\lib.win-amd64-3.9\\osgeo\\utils\n",
      "    copying osgeo\\utils\\mkgraticule.py -> build\\lib.win-amd64-3.9\\osgeo\\utils\n",
      "    copying osgeo\\utils\\ogrmerge.py -> build\\lib.win-amd64-3.9\\osgeo\\utils\n",
      "    copying osgeo\\utils\\pct2rgb.py -> build\\lib.win-amd64-3.9\\osgeo\\utils\n",
      "    copying osgeo\\utils\\rgb2pct.py -> build\\lib.win-amd64-3.9\\osgeo\\utils\n",
      "    copying osgeo\\utils\\__init__.py -> build\\lib.win-amd64-3.9\\osgeo\\utils\n",
      "    C:\\Users\\vh\\miniconda3\\envs\\pythonProject7\\lib\\site-packages\\setuptools\\lib2to3_ex.py:36: SetuptoolsDeprecationWarning: 2to3 support is deprecated. If the project still requires Python 2 support, please migrate to a single-codebase solution or employ an independent conversion process.\n",
      "      warnings.warn(\n",
      "    Fixing build\\lib.win-amd64-3.9\\osgeo\\gdal.py build\\lib.win-amd64-3.9\\osgeo\\gdalconst.py build\\lib.win-amd64-3.9\\osgeo\\gdalnumeric.py build\\lib.win-amd64-3.9\\osgeo\\gdal_array.py build\\lib.win-amd64-3.9\\osgeo\\gnm.py build\\lib.win-amd64-3.9\\osgeo\\ogr.py build\\lib.win-amd64-3.9\\osgeo\\osr.py build\\lib.win-amd64-3.9\\osgeo\\__init__.py build\\lib.win-amd64-3.9\\osgeo\\utils\\epsg_tr.py build\\lib.win-amd64-3.9\\osgeo\\utils\\esri2wkt.py build\\lib.win-amd64-3.9\\osgeo\\utils\\gcps2vec.py build\\lib.win-amd64-3.9\\osgeo\\utils\\gcps2wld.py build\\lib.win-amd64-3.9\\osgeo\\utils\\gdal2xyz.py build\\lib.win-amd64-3.9\\osgeo\\utils\\gdalchksum.py build\\lib.win-amd64-3.9\\osgeo\\utils\\gdalcompare.py build\\lib.win-amd64-3.9\\osgeo\\utils\\gdalident.py build\\lib.win-amd64-3.9\\osgeo\\utils\\gdalimport.py build\\lib.win-amd64-3.9\\osgeo\\utils\\gdalmove.py build\\lib.win-amd64-3.9\\osgeo\\utils\\gdal_auth.py build\\lib.win-amd64-3.9\\osgeo\\utils\\gdal_calc.py build\\lib.win-amd64-3.9\\osgeo\\utils\\gdal_edit.py build\\lib.win-amd64-3.9\\osgeo\\utils\\gdal_fillnodata.py build\\lib.win-amd64-3.9\\osgeo\\utils\\gdal_merge.py build\\lib.win-amd64-3.9\\osgeo\\utils\\gdal_pansharpen.py build\\lib.win-amd64-3.9\\osgeo\\utils\\gdal_polygonize.py build\\lib.win-amd64-3.9\\osgeo\\utils\\gdal_proximity.py build\\lib.win-amd64-3.9\\osgeo\\utils\\gdal_retile.py build\\lib.win-amd64-3.9\\osgeo\\utils\\gdal_sieve.py build\\lib.win-amd64-3.9\\osgeo\\utils\\mkgraticule.py build\\lib.win-amd64-3.9\\osgeo\\utils\\ogrmerge.py build\\lib.win-amd64-3.9\\osgeo\\utils\\pct2rgb.py build\\lib.win-amd64-3.9\\osgeo\\utils\\rgb2pct.py build\\lib.win-amd64-3.9\\osgeo\\utils\\__init__.py\n",
      "    Skipping optional fixer: ws_comma\n",
      "    Fixing build\\lib.win-amd64-3.9\\osgeo\\gdal.py build\\lib.win-amd64-3.9\\osgeo\\gdalconst.py build\\lib.win-amd64-3.9\\osgeo\\gdalnumeric.py build\\lib.win-amd64-3.9\\osgeo\\gdal_array.py build\\lib.win-amd64-3.9\\osgeo\\gnm.py build\\lib.win-amd64-3.9\\osgeo\\ogr.py build\\lib.win-amd64-3.9\\osgeo\\osr.py build\\lib.win-amd64-3.9\\osgeo\\__init__.py build\\lib.win-amd64-3.9\\osgeo\\utils\\epsg_tr.py build\\lib.win-amd64-3.9\\osgeo\\utils\\esri2wkt.py build\\lib.win-amd64-3.9\\osgeo\\utils\\gcps2vec.py build\\lib.win-amd64-3.9\\osgeo\\utils\\gcps2wld.py build\\lib.win-amd64-3.9\\osgeo\\utils\\gdal2xyz.py build\\lib.win-amd64-3.9\\osgeo\\utils\\gdalchksum.py build\\lib.win-amd64-3.9\\osgeo\\utils\\gdalcompare.py build\\lib.win-amd64-3.9\\osgeo\\utils\\gdalident.py build\\lib.win-amd64-3.9\\osgeo\\utils\\gdalimport.py build\\lib.win-amd64-3.9\\osgeo\\utils\\gdalmove.py build\\lib.win-amd64-3.9\\osgeo\\utils\\gdal_auth.py build\\lib.win-amd64-3.9\\osgeo\\utils\\gdal_calc.py build\\lib.win-amd64-3.9\\osgeo\\utils\\gdal_edit.py build\\lib.win-amd64-3.9\\osgeo\\utils\\gdal_fillnodata.py build\\lib.win-amd64-3.9\\osgeo\\utils\\gdal_merge.py build\\lib.win-amd64-3.9\\osgeo\\utils\\gdal_pansharpen.py build\\lib.win-amd64-3.9\\osgeo\\utils\\gdal_polygonize.py build\\lib.win-amd64-3.9\\osgeo\\utils\\gdal_proximity.py build\\lib.win-amd64-3.9\\osgeo\\utils\\gdal_retile.py build\\lib.win-amd64-3.9\\osgeo\\utils\\gdal_sieve.py build\\lib.win-amd64-3.9\\osgeo\\utils\\mkgraticule.py build\\lib.win-amd64-3.9\\osgeo\\utils\\ogrmerge.py build\\lib.win-amd64-3.9\\osgeo\\utils\\pct2rgb.py build\\lib.win-amd64-3.9\\osgeo\\utils\\rgb2pct.py build\\lib.win-amd64-3.9\\osgeo\\utils\\__init__.py\n",
      "    Skipping optional fixer: ws_comma\n",
      "    running build_ext\n",
      "    building 'osgeo._gdal' extension\n",
      "    building 'osgeo._gdalconst' extension\n",
      "    building 'osgeo._osr' extension\n",
      "    building 'osgeo._ogr' extension\n",
      "    building 'osgeo._gnm' extension\n",
      "    building 'osgeo._gdal_array' extension\n",
      "    error: Microsoft Visual C++ 14.0 or greater is required. Get it with \"Microsoft C++ Build Tools\": https://visualstudio.microsoft.com/visual-cpp-build-tools/\n",
      "    ----------------------------------------\n",
      "ERROR: Command errored out with exit status 1: 'C:\\Users\\vh\\miniconda3\\envs\\pythonProject7\\python.exe' -u -c 'import sys, setuptools, tokenize; sys.argv[0] = '\"'\"'C:\\\\Users\\\\vh\\\\AppData\\\\Local\\\\Temp\\\\pip-install-p3e9gfkn\\\\gdal_25ae0ab04d754d8f8fdeb00388b6049c\\\\setup.py'\"'\"'; __file__='\"'\"'C:\\\\Users\\\\vh\\\\AppData\\\\Local\\\\Temp\\\\pip-install-p3e9gfkn\\\\gdal_25ae0ab04d754d8f8fdeb00388b6049c\\\\setup.py'\"'\"';f=getattr(tokenize, '\"'\"'open'\"'\"', open)(__file__);code=f.read().replace('\"'\"'\\r\\n'\"'\"', '\"'\"'\\n'\"'\"');f.close();exec(compile(code, __file__, '\"'\"'exec'\"'\"'))' install --record 'C:\\Users\\vh\\AppData\\Local\\Temp\\pip-record-0a88kc2n\\install-record.txt' --single-version-externally-managed --compile --install-headers 'C:\\Users\\vh\\miniconda3\\envs\\pythonProject7\\Include\\GDAL' Check the logs for full command output.\n"
     ]
    },
    {
     "name": "stdout",
     "output_type": "stream",
     "text": [
      "Collecting GDAL\n",
      "  Using cached GDAL-3.2.2.tar.gz (601 kB)\n",
      "Building wheels for collected packages: GDAL\n",
      "  Building wheel for GDAL (setup.py): started\n",
      "  Building wheel for GDAL (setup.py): finished with status 'error'\n",
      "  Running setup.py clean for GDAL\n",
      "Failed to build GDAL\n",
      "Installing collected packages: GDAL\n",
      "    Running setup.py install for GDAL: started\n",
      "    Running setup.py install for GDAL: finished with status 'error'\n"
     ]
    },
    {
     "name": "stderr",
     "output_type": "stream",
     "text": [
      "  ERROR: Command errored out with exit status 1:\n",
      "   command: 'C:\\Users\\vh\\miniconda3\\envs\\pythonProject7\\python.exe' -u -c 'import sys, setuptools, tokenize; sys.argv[0] = '\"'\"'C:\\\\Users\\\\vh\\\\AppData\\\\Local\\\\Temp\\\\pip-install-fl5rsos1\\\\gdal_013d958c96394aa59c69c50fdf61233c\\\\setup.py'\"'\"'; __file__='\"'\"'C:\\\\Users\\\\vh\\\\AppData\\\\Local\\\\Temp\\\\pip-install-fl5rsos1\\\\gdal_013d958c96394aa59c69c50fdf61233c\\\\setup.py'\"'\"';f=getattr(tokenize, '\"'\"'open'\"'\"', open)(__file__);code=f.read().replace('\"'\"'\\r\\n'\"'\"', '\"'\"'\\n'\"'\"');f.close();exec(compile(code, __file__, '\"'\"'exec'\"'\"'))' bdist_wheel -d 'C:\\Users\\vh\\AppData\\Local\\Temp\\pip-wheel-9no1d2vk'\n",
      "       cwd: C:\\Users\\vh\\AppData\\Local\\Temp\\pip-install-fl5rsos1\\gdal_013d958c96394aa59c69c50fdf61233c\\\n",
      "  Complete output (54 lines):\n",
      "  running bdist_wheel\n",
      "  running build\n",
      "  running build_py\n",
      "  creating build\n",
      "  creating build\\lib.win-amd64-3.9\n",
      "  creating build\\lib.win-amd64-3.9\\osgeo\n",
      "  copying osgeo\\gdal.py -> build\\lib.win-amd64-3.9\\osgeo\n",
      "  copying osgeo\\gdalconst.py -> build\\lib.win-amd64-3.9\\osgeo\n",
      "  copying osgeo\\gdalnumeric.py -> build\\lib.win-amd64-3.9\\osgeo\n",
      "  copying osgeo\\gdal_array.py -> build\\lib.win-amd64-3.9\\osgeo\n",
      "  copying osgeo\\gnm.py -> build\\lib.win-amd64-3.9\\osgeo\n",
      "  copying osgeo\\ogr.py -> build\\lib.win-amd64-3.9\\osgeo\n",
      "  copying osgeo\\osr.py -> build\\lib.win-amd64-3.9\\osgeo\n",
      "  copying osgeo\\__init__.py -> build\\lib.win-amd64-3.9\\osgeo\n",
      "  creating build\\lib.win-amd64-3.9\\osgeo\\utils\n",
      "  copying osgeo\\utils\\epsg_tr.py -> build\\lib.win-amd64-3.9\\osgeo\\utils\n",
      "  copying osgeo\\utils\\esri2wkt.py -> build\\lib.win-amd64-3.9\\osgeo\\utils\n",
      "  copying osgeo\\utils\\gcps2vec.py -> build\\lib.win-amd64-3.9\\osgeo\\utils\n",
      "  copying osgeo\\utils\\gcps2wld.py -> build\\lib.win-amd64-3.9\\osgeo\\utils\n",
      "  copying osgeo\\utils\\gdal2xyz.py -> build\\lib.win-amd64-3.9\\osgeo\\utils\n",
      "  copying osgeo\\utils\\gdalchksum.py -> build\\lib.win-amd64-3.9\\osgeo\\utils\n",
      "  copying osgeo\\utils\\gdalcompare.py -> build\\lib.win-amd64-3.9\\osgeo\\utils\n",
      "  copying osgeo\\utils\\gdalident.py -> build\\lib.win-amd64-3.9\\osgeo\\utils\n",
      "  copying osgeo\\utils\\gdalimport.py -> build\\lib.win-amd64-3.9\\osgeo\\utils\n",
      "  copying osgeo\\utils\\gdalmove.py -> build\\lib.win-amd64-3.9\\osgeo\\utils\n",
      "  copying osgeo\\utils\\gdal_auth.py -> build\\lib.win-amd64-3.9\\osgeo\\utils\n",
      "  copying osgeo\\utils\\gdal_calc.py -> build\\lib.win-amd64-3.9\\osgeo\\utils\n",
      "  copying osgeo\\utils\\gdal_edit.py -> build\\lib.win-amd64-3.9\\osgeo\\utils\n",
      "  copying osgeo\\utils\\gdal_fillnodata.py -> build\\lib.win-amd64-3.9\\osgeo\\utils\n",
      "  copying osgeo\\utils\\gdal_merge.py -> build\\lib.win-amd64-3.9\\osgeo\\utils\n",
      "  copying osgeo\\utils\\gdal_pansharpen.py -> build\\lib.win-amd64-3.9\\osgeo\\utils\n",
      "  copying osgeo\\utils\\gdal_polygonize.py -> build\\lib.win-amd64-3.9\\osgeo\\utils\n",
      "  copying osgeo\\utils\\gdal_proximity.py -> build\\lib.win-amd64-3.9\\osgeo\\utils\n",
      "  copying osgeo\\utils\\gdal_retile.py -> build\\lib.win-amd64-3.9\\osgeo\\utils\n",
      "  copying osgeo\\utils\\gdal_sieve.py -> build\\lib.win-amd64-3.9\\osgeo\\utils\n",
      "  copying osgeo\\utils\\mkgraticule.py -> build\\lib.win-amd64-3.9\\osgeo\\utils\n",
      "  copying osgeo\\utils\\ogrmerge.py -> build\\lib.win-amd64-3.9\\osgeo\\utils\n",
      "  copying osgeo\\utils\\pct2rgb.py -> build\\lib.win-amd64-3.9\\osgeo\\utils\n",
      "  copying osgeo\\utils\\rgb2pct.py -> build\\lib.win-amd64-3.9\\osgeo\\utils\n",
      "  copying osgeo\\utils\\__init__.py -> build\\lib.win-amd64-3.9\\osgeo\\utils\n",
      "  C:\\Users\\vh\\miniconda3\\envs\\pythonProject7\\lib\\site-packages\\setuptools\\lib2to3_ex.py:36: SetuptoolsDeprecationWarning: 2to3 support is deprecated. If the project still requires Python 2 support, please migrate to a single-codebase solution or employ an independent conversion process.\n",
      "    warnings.warn(\n",
      "  Fixing build\\lib.win-amd64-3.9\\osgeo\\gdal.py build\\lib.win-amd64-3.9\\osgeo\\gdalconst.py build\\lib.win-amd64-3.9\\osgeo\\gdalnumeric.py build\\lib.win-amd64-3.9\\osgeo\\gdal_array.py build\\lib.win-amd64-3.9\\osgeo\\gnm.py build\\lib.win-amd64-3.9\\osgeo\\ogr.py build\\lib.win-amd64-3.9\\osgeo\\osr.py build\\lib.win-amd64-3.9\\osgeo\\__init__.py build\\lib.win-amd64-3.9\\osgeo\\utils\\epsg_tr.py build\\lib.win-amd64-3.9\\osgeo\\utils\\esri2wkt.py build\\lib.win-amd64-3.9\\osgeo\\utils\\gcps2vec.py build\\lib.win-amd64-3.9\\osgeo\\utils\\gcps2wld.py build\\lib.win-amd64-3.9\\osgeo\\utils\\gdal2xyz.py build\\lib.win-amd64-3.9\\osgeo\\utils\\gdalchksum.py build\\lib.win-amd64-3.9\\osgeo\\utils\\gdalcompare.py build\\lib.win-amd64-3.9\\osgeo\\utils\\gdalident.py build\\lib.win-amd64-3.9\\osgeo\\utils\\gdalimport.py build\\lib.win-amd64-3.9\\osgeo\\utils\\gdalmove.py build\\lib.win-amd64-3.9\\osgeo\\utils\\gdal_auth.py build\\lib.win-amd64-3.9\\osgeo\\utils\\gdal_calc.py build\\lib.win-amd64-3.9\\osgeo\\utils\\gdal_edit.py build\\lib.win-amd64-3.9\\osgeo\\utils\\gdal_fillnodata.py build\\lib.win-amd64-3.9\\osgeo\\utils\\gdal_merge.py build\\lib.win-amd64-3.9\\osgeo\\utils\\gdal_pansharpen.py build\\lib.win-amd64-3.9\\osgeo\\utils\\gdal_polygonize.py build\\lib.win-amd64-3.9\\osgeo\\utils\\gdal_proximity.py build\\lib.win-amd64-3.9\\osgeo\\utils\\gdal_retile.py build\\lib.win-amd64-3.9\\osgeo\\utils\\gdal_sieve.py build\\lib.win-amd64-3.9\\osgeo\\utils\\mkgraticule.py build\\lib.win-amd64-3.9\\osgeo\\utils\\ogrmerge.py build\\lib.win-amd64-3.9\\osgeo\\utils\\pct2rgb.py build\\lib.win-amd64-3.9\\osgeo\\utils\\rgb2pct.py build\\lib.win-amd64-3.9\\osgeo\\utils\\__init__.py\n",
      "  Skipping optional fixer: ws_comma\n",
      "  Fixing build\\lib.win-amd64-3.9\\osgeo\\gdal.py build\\lib.win-amd64-3.9\\osgeo\\gdalconst.py build\\lib.win-amd64-3.9\\osgeo\\gdalnumeric.py build\\lib.win-amd64-3.9\\osgeo\\gdal_array.py build\\lib.win-amd64-3.9\\osgeo\\gnm.py build\\lib.win-amd64-3.9\\osgeo\\ogr.py build\\lib.win-amd64-3.9\\osgeo\\osr.py build\\lib.win-amd64-3.9\\osgeo\\__init__.py build\\lib.win-amd64-3.9\\osgeo\\utils\\epsg_tr.py build\\lib.win-amd64-3.9\\osgeo\\utils\\esri2wkt.py build\\lib.win-amd64-3.9\\osgeo\\utils\\gcps2vec.py build\\lib.win-amd64-3.9\\osgeo\\utils\\gcps2wld.py build\\lib.win-amd64-3.9\\osgeo\\utils\\gdal2xyz.py build\\lib.win-amd64-3.9\\osgeo\\utils\\gdalchksum.py build\\lib.win-amd64-3.9\\osgeo\\utils\\gdalcompare.py build\\lib.win-amd64-3.9\\osgeo\\utils\\gdalident.py build\\lib.win-amd64-3.9\\osgeo\\utils\\gdalimport.py build\\lib.win-amd64-3.9\\osgeo\\utils\\gdalmove.py build\\lib.win-amd64-3.9\\osgeo\\utils\\gdal_auth.py build\\lib.win-amd64-3.9\\osgeo\\utils\\gdal_calc.py build\\lib.win-amd64-3.9\\osgeo\\utils\\gdal_edit.py build\\lib.win-amd64-3.9\\osgeo\\utils\\gdal_fillnodata.py build\\lib.win-amd64-3.9\\osgeo\\utils\\gdal_merge.py build\\lib.win-amd64-3.9\\osgeo\\utils\\gdal_pansharpen.py build\\lib.win-amd64-3.9\\osgeo\\utils\\gdal_polygonize.py build\\lib.win-amd64-3.9\\osgeo\\utils\\gdal_proximity.py build\\lib.win-amd64-3.9\\osgeo\\utils\\gdal_retile.py build\\lib.win-amd64-3.9\\osgeo\\utils\\gdal_sieve.py build\\lib.win-amd64-3.9\\osgeo\\utils\\mkgraticule.py build\\lib.win-amd64-3.9\\osgeo\\utils\\ogrmerge.py build\\lib.win-amd64-3.9\\osgeo\\utils\\pct2rgb.py build\\lib.win-amd64-3.9\\osgeo\\utils\\rgb2pct.py build\\lib.win-amd64-3.9\\osgeo\\utils\\__init__.py\n",
      "  Skipping optional fixer: ws_comma\n",
      "  running build_ext\n",
      "  building 'osgeo._gdal' extension\n",
      "  building 'osgeo._gdalconst' extension\n",
      "  building 'osgeo._osr' extension\n",
      "  building 'osgeo._ogr' extension\n",
      "  building 'osgeo._gnm' extension\n",
      "  building 'osgeo._gdal_array' extension\n",
      "  error: Microsoft Visual C++ 14.0 or greater is required. Get it with \"Microsoft C++ Build Tools\": https://visualstudio.microsoft.com/visual-cpp-build-tools/\n",
      "  ----------------------------------------\n",
      "  ERROR: Failed building wheel for GDAL\n",
      "    ERROR: Command errored out with exit status 1:\n",
      "     command: 'C:\\Users\\vh\\miniconda3\\envs\\pythonProject7\\python.exe' -u -c 'import sys, setuptools, tokenize; sys.argv[0] = '\"'\"'C:\\\\Users\\\\vh\\\\AppData\\\\Local\\\\Temp\\\\pip-install-fl5rsos1\\\\gdal_013d958c96394aa59c69c50fdf61233c\\\\setup.py'\"'\"'; __file__='\"'\"'C:\\\\Users\\\\vh\\\\AppData\\\\Local\\\\Temp\\\\pip-install-fl5rsos1\\\\gdal_013d958c96394aa59c69c50fdf61233c\\\\setup.py'\"'\"';f=getattr(tokenize, '\"'\"'open'\"'\"', open)(__file__);code=f.read().replace('\"'\"'\\r\\n'\"'\"', '\"'\"'\\n'\"'\"');f.close();exec(compile(code, __file__, '\"'\"'exec'\"'\"'))' install --record 'C:\\Users\\vh\\AppData\\Local\\Temp\\pip-record-boabixgk\\install-record.txt' --single-version-externally-managed --compile --install-headers 'C:\\Users\\vh\\miniconda3\\envs\\pythonProject7\\Include\\GDAL'\n",
      "         cwd: C:\\Users\\vh\\AppData\\Local\\Temp\\pip-install-fl5rsos1\\gdal_013d958c96394aa59c69c50fdf61233c\\\n",
      "    Complete output (54 lines):\n",
      "    running install\n",
      "    running build\n",
      "    running build_py\n",
      "    creating build\n",
      "    creating build\\lib.win-amd64-3.9\n",
      "    creating build\\lib.win-amd64-3.9\\osgeo\n",
      "    copying osgeo\\gdal.py -> build\\lib.win-amd64-3.9\\osgeo\n",
      "    copying osgeo\\gdalconst.py -> build\\lib.win-amd64-3.9\\osgeo\n",
      "    copying osgeo\\gdalnumeric.py -> build\\lib.win-amd64-3.9\\osgeo\n",
      "    copying osgeo\\gdal_array.py -> build\\lib.win-amd64-3.9\\osgeo\n",
      "    copying osgeo\\gnm.py -> build\\lib.win-amd64-3.9\\osgeo\n",
      "    copying osgeo\\ogr.py -> build\\lib.win-amd64-3.9\\osgeo\n",
      "    copying osgeo\\osr.py -> build\\lib.win-amd64-3.9\\osgeo\n",
      "    copying osgeo\\__init__.py -> build\\lib.win-amd64-3.9\\osgeo\n",
      "    creating build\\lib.win-amd64-3.9\\osgeo\\utils\n",
      "    copying osgeo\\utils\\epsg_tr.py -> build\\lib.win-amd64-3.9\\osgeo\\utils\n",
      "    copying osgeo\\utils\\esri2wkt.py -> build\\lib.win-amd64-3.9\\osgeo\\utils\n",
      "    copying osgeo\\utils\\gcps2vec.py -> build\\lib.win-amd64-3.9\\osgeo\\utils\n",
      "    copying osgeo\\utils\\gcps2wld.py -> build\\lib.win-amd64-3.9\\osgeo\\utils\n",
      "    copying osgeo\\utils\\gdal2xyz.py -> build\\lib.win-amd64-3.9\\osgeo\\utils\n",
      "    copying osgeo\\utils\\gdalchksum.py -> build\\lib.win-amd64-3.9\\osgeo\\utils\n",
      "    copying osgeo\\utils\\gdalcompare.py -> build\\lib.win-amd64-3.9\\osgeo\\utils\n",
      "    copying osgeo\\utils\\gdalident.py -> build\\lib.win-amd64-3.9\\osgeo\\utils\n",
      "    copying osgeo\\utils\\gdalimport.py -> build\\lib.win-amd64-3.9\\osgeo\\utils\n",
      "    copying osgeo\\utils\\gdalmove.py -> build\\lib.win-amd64-3.9\\osgeo\\utils\n",
      "    copying osgeo\\utils\\gdal_auth.py -> build\\lib.win-amd64-3.9\\osgeo\\utils\n",
      "    copying osgeo\\utils\\gdal_calc.py -> build\\lib.win-amd64-3.9\\osgeo\\utils\n",
      "    copying osgeo\\utils\\gdal_edit.py -> build\\lib.win-amd64-3.9\\osgeo\\utils\n",
      "    copying osgeo\\utils\\gdal_fillnodata.py -> build\\lib.win-amd64-3.9\\osgeo\\utils\n",
      "    copying osgeo\\utils\\gdal_merge.py -> build\\lib.win-amd64-3.9\\osgeo\\utils\n",
      "    copying osgeo\\utils\\gdal_pansharpen.py -> build\\lib.win-amd64-3.9\\osgeo\\utils\n",
      "    copying osgeo\\utils\\gdal_polygonize.py -> build\\lib.win-amd64-3.9\\osgeo\\utils\n",
      "    copying osgeo\\utils\\gdal_proximity.py -> build\\lib.win-amd64-3.9\\osgeo\\utils\n",
      "    copying osgeo\\utils\\gdal_retile.py -> build\\lib.win-amd64-3.9\\osgeo\\utils\n",
      "    copying osgeo\\utils\\gdal_sieve.py -> build\\lib.win-amd64-3.9\\osgeo\\utils\n",
      "    copying osgeo\\utils\\mkgraticule.py -> build\\lib.win-amd64-3.9\\osgeo\\utils\n",
      "    copying osgeo\\utils\\ogrmerge.py -> build\\lib.win-amd64-3.9\\osgeo\\utils\n",
      "    copying osgeo\\utils\\pct2rgb.py -> build\\lib.win-amd64-3.9\\osgeo\\utils\n",
      "    copying osgeo\\utils\\rgb2pct.py -> build\\lib.win-amd64-3.9\\osgeo\\utils\n",
      "    copying osgeo\\utils\\__init__.py -> build\\lib.win-amd64-3.9\\osgeo\\utils\n",
      "    C:\\Users\\vh\\miniconda3\\envs\\pythonProject7\\lib\\site-packages\\setuptools\\lib2to3_ex.py:36: SetuptoolsDeprecationWarning: 2to3 support is deprecated. If the project still requires Python 2 support, please migrate to a single-codebase solution or employ an independent conversion process.\n",
      "      warnings.warn(\n",
      "    Fixing build\\lib.win-amd64-3.9\\osgeo\\gdal.py build\\lib.win-amd64-3.9\\osgeo\\gdalconst.py build\\lib.win-amd64-3.9\\osgeo\\gdalnumeric.py build\\lib.win-amd64-3.9\\osgeo\\gdal_array.py build\\lib.win-amd64-3.9\\osgeo\\gnm.py build\\lib.win-amd64-3.9\\osgeo\\ogr.py build\\lib.win-amd64-3.9\\osgeo\\osr.py build\\lib.win-amd64-3.9\\osgeo\\__init__.py build\\lib.win-amd64-3.9\\osgeo\\utils\\epsg_tr.py build\\lib.win-amd64-3.9\\osgeo\\utils\\esri2wkt.py build\\lib.win-amd64-3.9\\osgeo\\utils\\gcps2vec.py build\\lib.win-amd64-3.9\\osgeo\\utils\\gcps2wld.py build\\lib.win-amd64-3.9\\osgeo\\utils\\gdal2xyz.py build\\lib.win-amd64-3.9\\osgeo\\utils\\gdalchksum.py build\\lib.win-amd64-3.9\\osgeo\\utils\\gdalcompare.py build\\lib.win-amd64-3.9\\osgeo\\utils\\gdalident.py build\\lib.win-amd64-3.9\\osgeo\\utils\\gdalimport.py build\\lib.win-amd64-3.9\\osgeo\\utils\\gdalmove.py build\\lib.win-amd64-3.9\\osgeo\\utils\\gdal_auth.py build\\lib.win-amd64-3.9\\osgeo\\utils\\gdal_calc.py build\\lib.win-amd64-3.9\\osgeo\\utils\\gdal_edit.py build\\lib.win-amd64-3.9\\osgeo\\utils\\gdal_fillnodata.py build\\lib.win-amd64-3.9\\osgeo\\utils\\gdal_merge.py build\\lib.win-amd64-3.9\\osgeo\\utils\\gdal_pansharpen.py build\\lib.win-amd64-3.9\\osgeo\\utils\\gdal_polygonize.py build\\lib.win-amd64-3.9\\osgeo\\utils\\gdal_proximity.py build\\lib.win-amd64-3.9\\osgeo\\utils\\gdal_retile.py build\\lib.win-amd64-3.9\\osgeo\\utils\\gdal_sieve.py build\\lib.win-amd64-3.9\\osgeo\\utils\\mkgraticule.py build\\lib.win-amd64-3.9\\osgeo\\utils\\ogrmerge.py build\\lib.win-amd64-3.9\\osgeo\\utils\\pct2rgb.py build\\lib.win-amd64-3.9\\osgeo\\utils\\rgb2pct.py build\\lib.win-amd64-3.9\\osgeo\\utils\\__init__.py\n",
      "    Skipping optional fixer: ws_comma\n",
      "    Fixing build\\lib.win-amd64-3.9\\osgeo\\gdal.py build\\lib.win-amd64-3.9\\osgeo\\gdalconst.py build\\lib.win-amd64-3.9\\osgeo\\gdalnumeric.py build\\lib.win-amd64-3.9\\osgeo\\gdal_array.py build\\lib.win-amd64-3.9\\osgeo\\gnm.py build\\lib.win-amd64-3.9\\osgeo\\ogr.py build\\lib.win-amd64-3.9\\osgeo\\osr.py build\\lib.win-amd64-3.9\\osgeo\\__init__.py build\\lib.win-amd64-3.9\\osgeo\\utils\\epsg_tr.py build\\lib.win-amd64-3.9\\osgeo\\utils\\esri2wkt.py build\\lib.win-amd64-3.9\\osgeo\\utils\\gcps2vec.py build\\lib.win-amd64-3.9\\osgeo\\utils\\gcps2wld.py build\\lib.win-amd64-3.9\\osgeo\\utils\\gdal2xyz.py build\\lib.win-amd64-3.9\\osgeo\\utils\\gdalchksum.py build\\lib.win-amd64-3.9\\osgeo\\utils\\gdalcompare.py build\\lib.win-amd64-3.9\\osgeo\\utils\\gdalident.py build\\lib.win-amd64-3.9\\osgeo\\utils\\gdalimport.py build\\lib.win-amd64-3.9\\osgeo\\utils\\gdalmove.py build\\lib.win-amd64-3.9\\osgeo\\utils\\gdal_auth.py build\\lib.win-amd64-3.9\\osgeo\\utils\\gdal_calc.py build\\lib.win-amd64-3.9\\osgeo\\utils\\gdal_edit.py build\\lib.win-amd64-3.9\\osgeo\\utils\\gdal_fillnodata.py build\\lib.win-amd64-3.9\\osgeo\\utils\\gdal_merge.py build\\lib.win-amd64-3.9\\osgeo\\utils\\gdal_pansharpen.py build\\lib.win-amd64-3.9\\osgeo\\utils\\gdal_polygonize.py build\\lib.win-amd64-3.9\\osgeo\\utils\\gdal_proximity.py build\\lib.win-amd64-3.9\\osgeo\\utils\\gdal_retile.py build\\lib.win-amd64-3.9\\osgeo\\utils\\gdal_sieve.py build\\lib.win-amd64-3.9\\osgeo\\utils\\mkgraticule.py build\\lib.win-amd64-3.9\\osgeo\\utils\\ogrmerge.py build\\lib.win-amd64-3.9\\osgeo\\utils\\pct2rgb.py build\\lib.win-amd64-3.9\\osgeo\\utils\\rgb2pct.py build\\lib.win-amd64-3.9\\osgeo\\utils\\__init__.py\n",
      "    Skipping optional fixer: ws_comma\n",
      "    running build_ext\n",
      "    building 'osgeo._gdal' extension\n",
      "    building 'osgeo._gdalconst' extension\n",
      "    building 'osgeo._osr' extension\n",
      "    building 'osgeo._ogr' extension\n",
      "    building 'osgeo._gnm' extension\n",
      "    building 'osgeo._gdal_array' extension\n",
      "    error: Microsoft Visual C++ 14.0 or greater is required. Get it with \"Microsoft C++ Build Tools\": https://visualstudio.microsoft.com/visual-cpp-build-tools/\n",
      "    ----------------------------------------\n",
      "ERROR: Command errored out with exit status 1: 'C:\\Users\\vh\\miniconda3\\envs\\pythonProject7\\python.exe' -u -c 'import sys, setuptools, tokenize; sys.argv[0] = '\"'\"'C:\\\\Users\\\\vh\\\\AppData\\\\Local\\\\Temp\\\\pip-install-fl5rsos1\\\\gdal_013d958c96394aa59c69c50fdf61233c\\\\setup.py'\"'\"'; __file__='\"'\"'C:\\\\Users\\\\vh\\\\AppData\\\\Local\\\\Temp\\\\pip-install-fl5rsos1\\\\gdal_013d958c96394aa59c69c50fdf61233c\\\\setup.py'\"'\"';f=getattr(tokenize, '\"'\"'open'\"'\"', open)(__file__);code=f.read().replace('\"'\"'\\r\\n'\"'\"', '\"'\"'\\n'\"'\"');f.close();exec(compile(code, __file__, '\"'\"'exec'\"'\"'))' install --record 'C:\\Users\\vh\\AppData\\Local\\Temp\\pip-record-boabixgk\\install-record.txt' --single-version-externally-managed --compile --install-headers 'C:\\Users\\vh\\miniconda3\\envs\\pythonProject7\\Include\\GDAL' Check the logs for full command output.\n"
     ]
    },
    {
     "ename": "ModuleNotFoundError",
     "evalue": "No module named 'osgeo'",
     "output_type": "error",
     "traceback": [
      "\u001B[1;31m---------------------------------------------------------------------------\u001B[0m",
      "\u001B[1;31mModuleNotFoundError\u001B[0m                       Traceback (most recent call last)",
      "\u001B[1;32m<ipython-input-21-97f5615eebe6>\u001B[0m in \u001B[0;36m<module>\u001B[1;34m\u001B[0m\n\u001B[0;32m      1\u001B[0m \u001B[0mget_ipython\u001B[0m\u001B[1;33m(\u001B[0m\u001B[1;33m)\u001B[0m\u001B[1;33m.\u001B[0m\u001B[0msystem\u001B[0m\u001B[1;33m(\u001B[0m\u001B[1;34m'pip install GDAL'\u001B[0m\u001B[1;33m)\u001B[0m\u001B[1;33m\u001B[0m\u001B[1;33m\u001B[0m\u001B[0m\n\u001B[1;32m----> 2\u001B[1;33m \u001B[1;32mfrom\u001B[0m \u001B[0mosgeo\u001B[0m \u001B[1;32mimport\u001B[0m \u001B[0mgdal\u001B[0m\u001B[1;33m\u001B[0m\u001B[1;33m\u001B[0m\u001B[0m\n\u001B[0m\u001B[0;32m      3\u001B[0m \u001B[1;32mimport\u001B[0m \u001B[0mmatplotlib\u001B[0m\u001B[1;33m.\u001B[0m\u001B[0mpyplot\u001B[0m \u001B[1;32mas\u001B[0m \u001B[0mplt\u001B[0m\u001B[1;33m\u001B[0m\u001B[1;33m\u001B[0m\u001B[0m\n\u001B[0;32m      4\u001B[0m \u001B[1;33m\u001B[0m\u001B[0m\n",
      "\u001B[1;31mModuleNotFoundError\u001B[0m: No module named 'osgeo'"
     ]
    }
   ],
   "source": [
    "!pip install GDAL"
   ],
   "metadata": {
    "collapsed": false,
    "pycharm": {
     "name": "#%% odiac file\n"
    }
   }
  },
  {
   "cell_type": "code",
   "execution_count": 22,
   "outputs": [
    {
     "name": "stdout",
     "output_type": "stream",
     "text": [
      "Collecting osgeo\n",
      "  Downloading osgeo-0.0.0-py3-none-any.whl (1.1 kB)\n",
      "Installing collected packages: osgeo\n",
      "Successfully installed osgeo-0.0.0\n"
     ]
    },
    {
     "ename": "ImportError",
     "evalue": "cannot import name 'gdal' from 'osgeo' (C:\\Users\\vh\\miniconda3\\envs\\pythonProject7\\lib\\site-packages\\osgeo\\__init__.py)",
     "output_type": "error",
     "traceback": [
      "\u001B[1;31m---------------------------------------------------------------------------\u001B[0m",
      "\u001B[1;31mImportError\u001B[0m                               Traceback (most recent call last)",
      "\u001B[1;32m<ipython-input-22-07743df0cca2>\u001B[0m in \u001B[0;36m<module>\u001B[1;34m\u001B[0m\n\u001B[0;32m      1\u001B[0m \u001B[0mget_ipython\u001B[0m\u001B[1;33m(\u001B[0m\u001B[1;33m)\u001B[0m\u001B[1;33m.\u001B[0m\u001B[0msystem\u001B[0m\u001B[1;33m(\u001B[0m\u001B[1;34m'pip install osgeo'\u001B[0m\u001B[1;33m)\u001B[0m\u001B[1;33m\u001B[0m\u001B[1;33m\u001B[0m\u001B[0m\n\u001B[1;32m----> 2\u001B[1;33m \u001B[1;32mfrom\u001B[0m \u001B[0mosgeo\u001B[0m \u001B[1;32mimport\u001B[0m \u001B[0mgdal\u001B[0m\u001B[1;33m\u001B[0m\u001B[1;33m\u001B[0m\u001B[0m\n\u001B[0m\u001B[0;32m      3\u001B[0m \u001B[1;32mimport\u001B[0m \u001B[0mmatplotlib\u001B[0m\u001B[1;33m.\u001B[0m\u001B[0mpyplot\u001B[0m \u001B[1;32mas\u001B[0m \u001B[0mplt\u001B[0m\u001B[1;33m\u001B[0m\u001B[1;33m\u001B[0m\u001B[0m\n\u001B[0;32m      4\u001B[0m \u001B[1;33m\u001B[0m\u001B[0m\n",
      "\u001B[1;31mImportError\u001B[0m: cannot import name 'gdal' from 'osgeo' (C:\\Users\\vh\\miniconda3\\envs\\pythonProject7\\lib\\site-packages\\osgeo\\__init__.py)"
     ]
    }
   ],
   "source": [
    "!pip install osgeo\n",
    "\n",
    "import matplotlib.pyplot as plt"
   ],
   "metadata": {
    "collapsed": false,
    "pycharm": {
     "name": "#%%\n"
    }
   }
  },
  {
   "cell_type": "code",
   "execution_count": null,
   "outputs": [],
   "source": [
    "im = Image.open('a_image.tif')\n",
    "im.show()"
   ],
   "metadata": {
    "collapsed": false,
    "pycharm": {
     "name": "#%%\n"
    }
   }
  }
 ],
 "metadata": {
  "kernelspec": {
   "display_name": "Python 3",
   "language": "python",
   "name": "python3"
  },
  "language_info": {
   "codemirror_mode": {
    "name": "ipython",
    "version": 2
   },
   "file_extension": ".py",
   "mimetype": "text/x-python",
   "name": "python",
   "nbconvert_exporter": "python",
   "pygments_lexer": "ipython2",
   "version": "2.7.6"
  }
 },
 "nbformat": 4,
 "nbformat_minor": 0
}